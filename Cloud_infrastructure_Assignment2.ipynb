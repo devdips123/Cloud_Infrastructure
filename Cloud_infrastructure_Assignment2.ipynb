{
 "cells": [
  {
   "cell_type": "markdown",
   "metadata": {},
   "source": [
    "## CLoud Infrastructure Assignment 2"
   ]
  },
  {
   "cell_type": "markdown",
   "metadata": {},
   "source": [
    "## Question 1"
   ]
  },
  {
   "cell_type": "code",
   "execution_count": 1,
   "metadata": {},
   "outputs": [],
   "source": [
    "from itertools import combinations"
   ]
  },
  {
   "cell_type": "code",
   "execution_count": 30,
   "metadata": {},
   "outputs": [],
   "source": [
    "# Check intersection of quorums = 1 proces\n",
    "def check_intersection(target,c):\n",
    "    status = True\n",
    "    for t in target:\n",
    "        if not t.intersection(c):\n",
    "            status = False\n",
    "            break\n",
    "        if len(t.intersection(c)) > 1:\n",
    "            status = False\n",
    "            break\n",
    "    return status\n",
    "\n",
    "def validate_quorums(processes):\n",
    "    for key in processes.keys():\n",
    "        status = check(key, processes)\n",
    "        if status: \n",
    "            print(f\"Validation successful for {key}\")\n",
    "\n",
    "        \n",
    "def check(process_id, processes):\n",
    "    status = True\n",
    "    keys = processes.keys()\n",
    "    quorum = set(processes.get(process_id))\n",
    "    for key in keys:\n",
    "        if key == process_id:\n",
    "            continue\n",
    "        q = set(processes.get(key))\n",
    "        if not quorum.intersection(q):\n",
    "            print(f\"Validation failed for processes {key} and {process_id}\")\n",
    "            status = False\n",
    "    return status\n",
    "        "
   ]
  },
  {
   "cell_type": "code",
   "execution_count": 34,
   "metadata": {
    "scrolled": true
   },
   "outputs": [],
   "source": [
    "# Generate all the combinations for nCk\n",
    "def generateProcessQuorumCombinations(n,k):\n",
    "    combs = combinations([i for i in range(1,n+1)],k)\n",
    "    combs = list(combs)\n",
    "    combs = [set(comb) for comb in combs]\n",
    "\n",
    "    i = 1\n",
    "    target = [combs.pop(0)]\n",
    "    for comb in combs:\n",
    "        if i <= n:\n",
    "            if check_intersection(target, comb):\n",
    "                target.append(comb)\n",
    "                i+=1\n",
    "    return target\n",
    "\n",
    "def MaekawasQuorums(n, k):\n",
    "    target = generateProcessQuorumCombinations(n,k)\n",
    "    quorums = target.copy()\n",
    "    missing = []\n",
    "    process_quorum = {}\n",
    "    for i in range(1,n+1):\n",
    "        status = False\n",
    "        for q in quorums:\n",
    "            if (i in q):\n",
    "                process_quorum[i] = q\n",
    "                quorums.remove(q)\n",
    "                status = True\n",
    "                break\n",
    "        if not status:\n",
    "            #print(f\"process {i} missing\")\n",
    "            missing.append(i)\n",
    "    if missing:\n",
    "        for miss in missing:\n",
    "            for q in quorums:\n",
    "                for p in q:\n",
    "                    if (miss in process_quorum.get(p)):\n",
    "                        #print(f\"Swapping {miss} with {p}\")\n",
    "                        process_quorum[miss] = process_quorum[p]\n",
    "                        process_quorum[p] = q\n",
    "                        quorums.remove(q)\n",
    "                        missing.remove(miss)\n",
    "                        break\n",
    "    return process_quorum     "
   ]
  },
  {
   "cell_type": "markdown",
   "metadata": {},
   "source": [
    "### (n,k) pairs as per the algorithm\n",
    "- (3,2)\n",
    "- (7,3)\n",
    "- (13,4)\n",
    "- (21,5)"
   ]
  },
  {
   "cell_type": "markdown",
   "metadata": {},
   "source": [
    "### Create the Quorums"
   ]
  },
  {
   "cell_type": "code",
   "execution_count": 38,
   "metadata": {
    "scrolled": true
   },
   "outputs": [
    {
     "data": {
      "text/plain": [
       "{1: {1, 2, 3, 4, 5},\n",
       " 2: {2, 6, 10, 14, 18},\n",
       " 3: {3, 6, 11, 16, 21},\n",
       " 4: {4, 6, 12, 17, 19},\n",
       " 5: {5, 8, 11, 17, 18},\n",
       " 6: {1, 6, 7, 8, 9},\n",
       " 7: {2, 7, 11, 15, 19},\n",
       " 8: {2, 8, 12, 16, 20},\n",
       " 9: {2, 9, 13, 17, 21},\n",
       " 10: {1, 10, 11, 12, 13},\n",
       " 11: {4, 9, 11, 14, 20},\n",
       " 12: {3, 9, 12, 15, 18},\n",
       " 13: {3, 8, 13, 14, 19},\n",
       " 14: {1, 14, 15, 16, 17},\n",
       " 15: {4, 8, 10, 15, 21},\n",
       " 16: {4, 7, 13, 16, 18},\n",
       " 17: {3, 7, 10, 17, 20},\n",
       " 18: {1, 18, 19, 20, 21},\n",
       " 19: {5, 9, 10, 16, 19},\n",
       " 21: {5, 7, 12, 14, 21},\n",
       " 20: {5, 6, 13, 15, 20}}"
      ]
     },
     "execution_count": 38,
     "metadata": {},
     "output_type": "execute_result"
    }
   ],
   "source": [
    "process_quorum = MaekawasQuorums(21,5)\n",
    "process_quorum"
   ]
  },
  {
   "cell_type": "markdown",
   "metadata": {},
   "source": [
    "### Validate the quorums\n",
    "- Each quorum has intersection with all other quorums"
   ]
  },
  {
   "cell_type": "code",
   "execution_count": 37,
   "metadata": {},
   "outputs": [
    {
     "name": "stdout",
     "output_type": "stream",
     "text": [
      "Validation successful for 1\n",
      "Validation successful for 2\n",
      "Validation successful for 3\n",
      "Validation successful for 4\n",
      "Validation successful for 5\n",
      "Validation successful for 6\n",
      "Validation successful for 7\n",
      "Validation successful for 8\n",
      "Validation successful for 9\n",
      "Validation successful for 10\n",
      "Validation successful for 11\n",
      "Validation successful for 12\n",
      "Validation successful for 13\n"
     ]
    }
   ],
   "source": [
    "validate_quorums(process_quorum)"
   ]
  },
  {
   "cell_type": "markdown",
   "metadata": {},
   "source": [
    "### Q1-(b) Mutual Exlusion in Distributed systems"
   ]
  },
  {
   "cell_type": "code",
   "execution_count": 50,
   "metadata": {},
   "outputs": [],
   "source": [
    "import threading\n",
    "import time\n",
    "from collections import deque\n",
    "\n",
    "class CriticalSection:\n",
    "    process_quorum_dict = {}\n",
    "    process_queue = {}\n",
    "    \n",
    "    def __init__(self, process_quorum):\n",
    "        self.process_quorum_dict = process_quorum\n",
    "        self._lock = threading.Lock()\n",
    "        for k in process_quorum.keys():\n",
    "            self.process_queue[k] = deque([])\n",
    "        \n",
    "    def enter_cs(self, pid):\n",
    "        retries,count = 5,0\n",
    "        self.request_quorum(pid)\n",
    "       \n",
    "        if self.get_quorum_reply(pid):\n",
    "            with self._lock:\n",
    "                print(f\"[INFO] Process {pid} entering critical section!\")\n",
    "                time.sleep(1)\n",
    "            \n",
    "    def request_quorum(self,pid):\n",
    "        print(f\"[INFO] Process {pid} requested access to quorum {self.process_quorum_dict.get(pid)}\")\n",
    "        quorum = self.process_quorum_dict.get(pid)\n",
    "        for proc in quorum:\n",
    "            self.process_queue.get(proc).append([pid,\"REQUEST\"])\n",
    "    \n",
    "    def get_quorum_reply(self,pid):\n",
    "        quorum = self.process_quorum_dict.get(pid)\n",
    "        quorum_len = len(quorum)\n",
    "        count = 0\n",
    "        for proc in quorum:\n",
    "            p_q =self.process_queue.get(proc)\n",
    "            if p_q:\n",
    "                elem = p_q[0]\n",
    "                if elem[0] == pid:\n",
    "                    elem[1] =\"VOTED\"\n",
    "                    count +=1\n",
    "        if count == quorum_len:\n",
    "            for proc in quorum:\n",
    "                self.process_queue.get(proc).popleft()\n",
    "            print(f\"[INFO] Quorum granted access to process {pid}\")\n",
    "            return True\n",
    "        \n",
    "        return False"
   ]
  },
  {
   "cell_type": "markdown",
   "metadata": {},
   "source": [
    "### Critical section mutual exclusion"
   ]
  },
  {
   "cell_type": "code",
   "execution_count": 51,
   "metadata": {},
   "outputs": [
    {
     "name": "stdout",
     "output_type": "stream",
     "text": [
      "[INFO] Process 1 requested access to quorum {1, 2, 3, 4, 5}\n",
      "[INFO] Quorum granted access to process 1\n",
      "[INFO] Process 1 entering critical section!\n",
      "[INFO] Process 2 requested access to quorum {2, 6, 10, 14, 18}\n",
      "[INFO] Quorum granted access to process 2\n",
      "[INFO] Process 3 requested access to quorum {3, 6, 11, 16, 21}\n",
      "[INFO] Process 4 requested access to quorum {4, 6, 12, 17, 19}[INFO] Quorum granted access to process 3\n",
      "\n",
      "[INFO] Quorum granted access to process 4\n",
      "[INFO] Process 5 requested access to quorum {5, 8, 11, 17, 18}\n",
      "[INFO] Process 6 requested access to quorum {1, 6, 7, 8, 9}\n",
      "[INFO] Quorum granted access to process 5\n",
      "[INFO] Quorum granted access to process 6[INFO] Process 7 requested access to quorum {2, 7, 11, 15, 19}\n",
      "[INFO] Process 8 requested access to quorum {2, 8, 12, 16, 20}\n",
      "[INFO] Quorum granted access to process 8\n",
      "\n",
      "[INFO] Quorum granted access to process 7[INFO] Process 9 requested access to quorum {2, 9, 13, 17, 21}\n",
      "\n",
      "[INFO] Quorum granted access to process 9\n",
      "[INFO] Process 10 requested access to quorum {1, 10, 11, 12, 13}\n",
      "[INFO] Quorum granted access to process 10\n",
      "[INFO] Process 11 requested access to quorum {4, 9, 11, 14, 20}\n",
      "[INFO] Quorum granted access to process 11\n",
      "[INFO] Process 12 requested access to quorum {3, 9, 12, 15, 18}\n",
      "[INFO] Process 13 requested access to quorum {3, 8, 13, 14, 19}\n",
      "[INFO] Quorum granted access to process 13\n",
      "[INFO] Process 14 requested access to quorum {1, 14, 15, 16, 17}[INFO] Quorum granted access to process 12\n",
      "\n",
      "[INFO] Quorum granted access to process 14\n",
      "[INFO] Process 15 requested access to quorum {4, 8, 10, 15, 21}\n",
      "[INFO] Process 16 requested access to quorum {4, 7, 13, 16, 18}\n",
      "[INFO] Quorum granted access to process 16\n",
      "[INFO] Process 17 requested access to quorum {3, 7, 10, 17, 20}\n",
      "[INFO] Quorum granted access to process 17\n",
      "[INFO] Quorum granted access to process 15\n",
      "[INFO] Process 18 requested access to quorum {1, 18, 19, 20, 21}\n",
      "[INFO] Quorum granted access to process 18\n",
      "[INFO] Process 19 requested access to quorum {5, 9, 10, 16, 19}[INFO] Process 21 requested access to quorum {5, 7, 12, 14, 21}\n",
      "[INFO] Quorum granted access to process 21\n",
      "\n",
      "[INFO] Quorum granted access to process 19\n",
      "[INFO] Process 20 requested access to quorum {5, 6, 13, 15, 20}\n",
      "[INFO] Quorum granted access to process 20\n",
      "[INFO] Process 2 entering critical section!\n",
      "[INFO] Process 3 entering critical section!\n",
      "[INFO] Process 4 entering critical section!\n",
      "[INFO] Process 5 entering critical section!\n",
      "[INFO] Process 8 entering critical section!\n",
      "[INFO] Process 6 entering critical section!\n",
      "[INFO] Process 9 entering critical section!\n",
      "[INFO] Process 7 entering critical section!\n",
      "[INFO] Process 10 entering critical section!\n",
      "[INFO] Process 11 entering critical section!\n",
      "[INFO] Process 13 entering critical section!\n",
      "[INFO] Process 12 entering critical section!\n",
      "[INFO] Process 14 entering critical section!\n",
      "[INFO] Process 16 entering critical section!\n",
      "[INFO] Process 17 entering critical section!\n",
      "[INFO] Process 15 entering critical section!\n",
      "[INFO] Process 18 entering critical section!\n",
      "[INFO] Process 21 entering critical section!\n",
      "[INFO] Process 19 entering critical section!\n",
      "[INFO] Process 20 entering critical section!\n",
      "[INFO] Main thread ends\n"
     ]
    }
   ],
   "source": [
    "cs = CriticalSection(process_quorum)\n",
    "threads = []\n",
    "for p in process_quorum.keys():\n",
    "    t = threading.Thread(target=cs.enter_cs, args=(p,))\n",
    "    threads.append(t)\n",
    "    t.start()\n",
    "\n",
    "for t in threads:\n",
    "    t.join()\n",
    "print(\"[INFO] Main thread ends\")"
   ]
  },
  {
   "cell_type": "markdown",
   "metadata": {},
   "source": [
    "## Question 2"
   ]
  },
  {
   "cell_type": "code",
   "execution_count": 14,
   "metadata": {},
   "outputs": [],
   "source": [
    "import pandas as pd\n",
    "import numpy as np"
   ]
  },
  {
   "cell_type": "code",
   "execution_count": 15,
   "metadata": {},
   "outputs": [],
   "source": [
    "def MinMinAlgorithm(df):\n",
    "    scheduling = df.copy()\n",
    "    \n",
    "    cols = scheduling.columns\n",
    "    iters = len(scheduling.index)\n",
    "    while iters > 0:\n",
    "        index = scheduling.index\n",
    "        min_time = scheduling.at[index[0],cols[0]]\n",
    "        min_time_m = cols[0]\n",
    "        min_index = index[0]\n",
    "        for col in cols:\n",
    "\n",
    "            for ind in index:\n",
    "                task_time = scheduling.at[ind,col]\n",
    "                if task_time < min_time:\n",
    "                    min_time = task_time\n",
    "                    min_time_m = col\n",
    "                    min_index = ind\n",
    "        print(f\"Assign Task: {min_index} to machine: {min_time_m} with time = {min_time}\")\n",
    "        scheduling.drop(min_index, axis=0, inplace=True)\n",
    "        scheduling[min_time_m] = scheduling[min_time_m].apply(lambda value: value+min_time)\n",
    "        iters -=1\n",
    "        \n",
    "def MinMaxAlgorithm(df):\n",
    "    scheduling = df.copy()\n",
    "    \n",
    "    cols = scheduling.columns\n",
    "    iters = len(scheduling.index)\n",
    "    while iters > 0:\n",
    "        index = scheduling.index\n",
    "        min_time_list = []\n",
    "        max_time_sorted = []\n",
    "        for ind in index:\n",
    "            min_time = scheduling.at[ind,cols[0]]\n",
    "            min_time_m = cols[0]\n",
    "            min_index = ind\n",
    "            for col in cols:\n",
    "                if scheduling.at[ind,col] < min_time:\n",
    "                    min_time = scheduling.at[ind,col]\n",
    "                    min_time_m = col\n",
    "                    min_index = ind\n",
    "            min_time_list.append((min_index, min_time_m, min_time))\n",
    "        max_time_sorted = sorted(min_time_list,key = lambda k: k[2], reverse=True)\n",
    "       \n",
    "        print(f\"Assign Task: {max_time_sorted[0][0]} to machine {max_time_sorted[0][1]} with time = {max_time_sorted[0][2]}\")\n",
    "        scheduling.drop(max_time_sorted[0][0], axis=0, inplace=True)\n",
    "        scheduling[max_time_sorted[0][1]] = scheduling[max_time_sorted[0][1]].apply(lambda value: value+max_time_sorted[0][2])\n",
    "        #print(scheduling)\n",
    "        iters -=1"
   ]
  },
  {
   "cell_type": "markdown",
   "metadata": {},
   "source": [
    "### Read the Q2 csv file"
   ]
  },
  {
   "cell_type": "code",
   "execution_count": 47,
   "metadata": {},
   "outputs": [],
   "source": [
    "hw2q2 = pd.read_csv(\"hw2_q2.csv\", index_col=\"TaskList\")"
   ]
  },
  {
   "cell_type": "code",
   "execution_count": 48,
   "metadata": {},
   "outputs": [
    {
     "data": {
      "text/html": [
       "<div>\n",
       "<style scoped>\n",
       "    .dataframe tbody tr th:only-of-type {\n",
       "        vertical-align: middle;\n",
       "    }\n",
       "\n",
       "    .dataframe tbody tr th {\n",
       "        vertical-align: top;\n",
       "    }\n",
       "\n",
       "    .dataframe thead th {\n",
       "        text-align: right;\n",
       "    }\n",
       "</style>\n",
       "<table border=\"1\" class=\"dataframe\">\n",
       "  <thead>\n",
       "    <tr style=\"text-align: right;\">\n",
       "      <th></th>\n",
       "      <th>M1</th>\n",
       "      <th>M2</th>\n",
       "      <th>M3</th>\n",
       "      <th>M4</th>\n",
       "      <th>M5</th>\n",
       "      <th>M6</th>\n",
       "    </tr>\n",
       "    <tr>\n",
       "      <th>TaskList</th>\n",
       "      <th></th>\n",
       "      <th></th>\n",
       "      <th></th>\n",
       "      <th></th>\n",
       "      <th></th>\n",
       "      <th></th>\n",
       "    </tr>\n",
       "  </thead>\n",
       "  <tbody>\n",
       "    <tr>\n",
       "      <th>0</th>\n",
       "      <td>13</td>\n",
       "      <td>23</td>\n",
       "      <td>71</td>\n",
       "      <td>60</td>\n",
       "      <td>27</td>\n",
       "      <td>2</td>\n",
       "    </tr>\n",
       "    <tr>\n",
       "      <th>1</th>\n",
       "      <td>31</td>\n",
       "      <td>14</td>\n",
       "      <td>94</td>\n",
       "      <td>60</td>\n",
       "      <td>61</td>\n",
       "      <td>57</td>\n",
       "    </tr>\n",
       "    <tr>\n",
       "      <th>2</th>\n",
       "      <td>17</td>\n",
       "      <td>-</td>\n",
       "      <td>23</td>\n",
       "      <td>36</td>\n",
       "      <td>8</td>\n",
       "      <td>86</td>\n",
       "    </tr>\n",
       "    <tr>\n",
       "      <th>3</th>\n",
       "      <td>19</td>\n",
       "      <td>10</td>\n",
       "      <td>4</td>\n",
       "      <td>58</td>\n",
       "      <td>73</td>\n",
       "      <td>40</td>\n",
       "    </tr>\n",
       "    <tr>\n",
       "      <th>4</th>\n",
       "      <td>94</td>\n",
       "      <td>-</td>\n",
       "      <td>58</td>\n",
       "      <td>-</td>\n",
       "      <td>68</td>\n",
       "      <td>46</td>\n",
       "    </tr>\n",
       "    <tr>\n",
       "      <th>5</th>\n",
       "      <td>8</td>\n",
       "      <td>3</td>\n",
       "      <td>32</td>\n",
       "      <td>4</td>\n",
       "      <td>94</td>\n",
       "      <td>89</td>\n",
       "    </tr>\n",
       "    <tr>\n",
       "      <th>6</th>\n",
       "      <td>10</td>\n",
       "      <td>13</td>\n",
       "      <td>1</td>\n",
       "      <td>92</td>\n",
       "      <td>75</td>\n",
       "      <td>29</td>\n",
       "    </tr>\n",
       "    <tr>\n",
       "      <th>7</th>\n",
       "      <td>80</td>\n",
       "      <td>38</td>\n",
       "      <td>40</td>\n",
       "      <td>66</td>\n",
       "      <td>25</td>\n",
       "      <td>88</td>\n",
       "    </tr>\n",
       "  </tbody>\n",
       "</table>\n",
       "</div>"
      ],
      "text/plain": [
       "          M1  M2  M3  M4  M5  M6\n",
       "TaskList                        \n",
       "0         13  23  71  60  27   2\n",
       "1         31  14  94  60  61  57\n",
       "2         17   -  23  36   8  86\n",
       "3         19  10   4  58  73  40\n",
       "4         94   -  58   -  68  46\n",
       "5          8   3  32   4  94  89\n",
       "6         10  13   1  92  75  29\n",
       "7         80  38  40  66  25  88"
      ]
     },
     "execution_count": 48,
     "metadata": {},
     "output_type": "execute_result"
    }
   ],
   "source": [
    "hw2q2"
   ]
  },
  {
   "cell_type": "markdown",
   "metadata": {},
   "source": [
    "#### Replace the '-' by a large number 999999"
   ]
  },
  {
   "cell_type": "code",
   "execution_count": 21,
   "metadata": {},
   "outputs": [
    {
     "data": {
      "text/html": [
       "<div>\n",
       "<style scoped>\n",
       "    .dataframe tbody tr th:only-of-type {\n",
       "        vertical-align: middle;\n",
       "    }\n",
       "\n",
       "    .dataframe tbody tr th {\n",
       "        vertical-align: top;\n",
       "    }\n",
       "\n",
       "    .dataframe thead th {\n",
       "        text-align: right;\n",
       "    }\n",
       "</style>\n",
       "<table border=\"1\" class=\"dataframe\">\n",
       "  <thead>\n",
       "    <tr style=\"text-align: right;\">\n",
       "      <th></th>\n",
       "      <th>M1</th>\n",
       "      <th>M2</th>\n",
       "      <th>M3</th>\n",
       "      <th>M4</th>\n",
       "      <th>M5</th>\n",
       "      <th>M6</th>\n",
       "    </tr>\n",
       "    <tr>\n",
       "      <th>TaskList</th>\n",
       "      <th></th>\n",
       "      <th></th>\n",
       "      <th></th>\n",
       "      <th></th>\n",
       "      <th></th>\n",
       "      <th></th>\n",
       "    </tr>\n",
       "  </thead>\n",
       "  <tbody>\n",
       "    <tr>\n",
       "      <th>0</th>\n",
       "      <td>13</td>\n",
       "      <td>23</td>\n",
       "      <td>71</td>\n",
       "      <td>60</td>\n",
       "      <td>27</td>\n",
       "      <td>2</td>\n",
       "    </tr>\n",
       "    <tr>\n",
       "      <th>1</th>\n",
       "      <td>31</td>\n",
       "      <td>14</td>\n",
       "      <td>94</td>\n",
       "      <td>60</td>\n",
       "      <td>61</td>\n",
       "      <td>57</td>\n",
       "    </tr>\n",
       "    <tr>\n",
       "      <th>2</th>\n",
       "      <td>17</td>\n",
       "      <td>999999</td>\n",
       "      <td>23</td>\n",
       "      <td>36</td>\n",
       "      <td>8</td>\n",
       "      <td>86</td>\n",
       "    </tr>\n",
       "    <tr>\n",
       "      <th>3</th>\n",
       "      <td>19</td>\n",
       "      <td>10</td>\n",
       "      <td>4</td>\n",
       "      <td>58</td>\n",
       "      <td>73</td>\n",
       "      <td>40</td>\n",
       "    </tr>\n",
       "    <tr>\n",
       "      <th>4</th>\n",
       "      <td>94</td>\n",
       "      <td>999999</td>\n",
       "      <td>58</td>\n",
       "      <td>999999</td>\n",
       "      <td>68</td>\n",
       "      <td>46</td>\n",
       "    </tr>\n",
       "    <tr>\n",
       "      <th>5</th>\n",
       "      <td>8</td>\n",
       "      <td>3</td>\n",
       "      <td>32</td>\n",
       "      <td>4</td>\n",
       "      <td>94</td>\n",
       "      <td>89</td>\n",
       "    </tr>\n",
       "    <tr>\n",
       "      <th>6</th>\n",
       "      <td>10</td>\n",
       "      <td>13</td>\n",
       "      <td>1</td>\n",
       "      <td>92</td>\n",
       "      <td>75</td>\n",
       "      <td>29</td>\n",
       "    </tr>\n",
       "    <tr>\n",
       "      <th>7</th>\n",
       "      <td>80</td>\n",
       "      <td>38</td>\n",
       "      <td>40</td>\n",
       "      <td>66</td>\n",
       "      <td>25</td>\n",
       "      <td>88</td>\n",
       "    </tr>\n",
       "  </tbody>\n",
       "</table>\n",
       "</div>"
      ],
      "text/plain": [
       "          M1      M2  M3      M4  M5  M6\n",
       "TaskList                                \n",
       "0         13      23  71      60  27   2\n",
       "1         31      14  94      60  61  57\n",
       "2         17  999999  23      36   8  86\n",
       "3         19      10   4      58  73  40\n",
       "4         94  999999  58  999999  68  46\n",
       "5          8       3  32       4  94  89\n",
       "6         10      13   1      92  75  29\n",
       "7         80      38  40      66  25  88"
      ]
     },
     "execution_count": 21,
     "metadata": {},
     "output_type": "execute_result"
    }
   ],
   "source": [
    "ddf = hw2q2.replace(r'-',999999,regex=True)\n",
    "# Convert the df to int64 data type\n",
    "ddf = ddf.astype('int64')\n",
    "ddf"
   ]
  },
  {
   "cell_type": "markdown",
   "metadata": {},
   "source": [
    "### MinMinAlgorithm"
   ]
  },
  {
   "cell_type": "code",
   "execution_count": 22,
   "metadata": {},
   "outputs": [
    {
     "name": "stdout",
     "output_type": "stream",
     "text": [
      "Assign Task: 6 to machine: M3 with time = 1\n",
      "Assign Task: 0 to machine: M6 with time = 2\n",
      "Assign Task: 5 to machine: M2 with time = 3\n",
      "Assign Task: 3 to machine: M3 with time = 5\n",
      "Assign Task: 2 to machine: M5 with time = 8\n",
      "Assign Task: 1 to machine: M2 with time = 17\n",
      "Assign Task: 7 to machine: M5 with time = 33\n",
      "Assign Task: 4 to machine: M6 with time = 48\n"
     ]
    }
   ],
   "source": [
    "MinMinAlgorithm(ddf)"
   ]
  },
  {
   "cell_type": "markdown",
   "metadata": {},
   "source": [
    "### MinMaxAlgorithm"
   ]
  },
  {
   "cell_type": "code",
   "execution_count": 23,
   "metadata": {
    "scrolled": true
   },
   "outputs": [
    {
     "name": "stdout",
     "output_type": "stream",
     "text": [
      "Assign Task: 4 to machine M6 with time = 46\n",
      "Assign Task: 7 to machine M5 with time = 25\n",
      "Assign Task: 2 to machine M1 with time = 17\n",
      "Assign Task: 0 to machine M2 with time = 23\n",
      "Assign Task: 1 to machine M2 with time = 37\n",
      "Assign Task: 3 to machine M3 with time = 4\n",
      "Assign Task: 6 to machine M3 with time = 5\n",
      "Assign Task: 5 to machine M4 with time = 4\n"
     ]
    }
   ],
   "source": [
    "MinMaxAlgorithm(ddf)"
   ]
  },
  {
   "cell_type": "code",
   "execution_count": null,
   "metadata": {},
   "outputs": [],
   "source": []
  }
 ],
 "metadata": {
  "kernelspec": {
   "display_name": "Python 3",
   "language": "python",
   "name": "python3"
  },
  "language_info": {
   "codemirror_mode": {
    "name": "ipython",
    "version": 3
   },
   "file_extension": ".py",
   "mimetype": "text/x-python",
   "name": "python",
   "nbconvert_exporter": "python",
   "pygments_lexer": "ipython3",
   "version": "3.6.8"
  },
  "latex_envs": {
   "LaTeX_envs_menu_present": true,
   "autoclose": false,
   "autocomplete": true,
   "bibliofile": "biblio.bib",
   "cite_by": "apalike",
   "current_citInitial": 1,
   "eqLabelWithNumbers": true,
   "eqNumInitial": 1,
   "hotkeys": {
    "equation": "Ctrl-E",
    "itemize": "Ctrl-I"
   },
   "labels_anchors": false,
   "latex_user_defs": false,
   "report_style_numbering": false,
   "user_envs_cfg": false
  }
 },
 "nbformat": 4,
 "nbformat_minor": 2
}
